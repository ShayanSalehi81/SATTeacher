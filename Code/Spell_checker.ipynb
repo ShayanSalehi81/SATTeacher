{
  "nbformat": 4,
  "nbformat_minor": 0,
  "metadata": {
    "colab": {
      "provenance": []
    },
    "kernelspec": {
      "name": "python3",
      "display_name": "Python 3"
    },
    "language_info": {
      "name": "python"
    }
  },
  "cells": [
    {
      "cell_type": "code",
      "source": [
        "!sudo apt-get install libhunspell-dev\n",
        "!pip install hunspell"
      ],
      "metadata": {
        "colab": {
          "base_uri": "https://localhost:8080/"
        },
        "id": "mmXta2l6tjFv",
        "outputId": "6f133dc1-fd9f-4a59-8e3b-4bf847447de3"
      },
      "execution_count": null,
      "outputs": [
        {
          "output_type": "stream",
          "name": "stdout",
          "text": [
            "Reading package lists... Done\n",
            "Building dependency tree       \n",
            "Reading state information... Done\n",
            "libhunspell-dev is already the newest version (1.7.0-2build2).\n",
            "0 upgraded, 0 newly installed, 0 to remove and 38 not upgraded.\n",
            "Looking in indexes: https://pypi.org/simple, https://us-python.pkg.dev/colab-wheels/public/simple/\n",
            "Requirement already satisfied: hunspell in /usr/local/lib/python3.10/dist-packages (0.5.5)\n"
          ]
        }
      ]
    },
    {
      "cell_type": "code",
      "execution_count": null,
      "metadata": {
        "id": "NUzyalFTsuxc"
      },
      "outputs": [],
      "source": [
        "import hunspell\n",
        "import re\n",
        "\n",
        "spell_checker = hunspell.HunSpell('fa-IR.dic', 'fa-IR.aff')"
      ]
    },
    {
      "cell_type": "code",
      "source": [
        "text1 = \"سلام من شایان هسطم، از دیدن شما خیل خوشحال شدم و باعث افتخاره حظور شما در این مراصم.\"\n",
        "text2 = \"اولین بخش مغاله، انواع و مکانیسم‌های هملات پشت‌در را مرور می‌کند، سه دصته بزرگ را ذکر می‌کند: حملات تک پیکسلی، پچ، و جحانی. حملات تک پیکسلی یک بخش بسیار کوچک از داده‌های ورودی را تقییر می‌دهند، در حالی که حملات پچ یک پچ از اطلاعات تجاوظگر را در ورودی درج می‌کنند.\"\n",
        "text3 = \"از بیشنهادی که شما دادین بسپار خرصند شدم.\"\n",
        "text4 = \"از طوجه شما بسیا سپاس گزارم.\"\n",
        "text5 = \"بنابرای ما در اینجا نیاژ به احداس یک واحد تاصیصاتی در طحران داریم.\"\n",
        "text6 = \"در اینجا ما درگیر صاخط یک غتعه ضمین برای هیات یک مدرسه هصطیم.\"\n",
        "text7 = \"صلام اصم من علیرضا است و از دیدن شما بصیار خوشهالم.\""
      ],
      "metadata": {
        "id": "-JeDj1zSGLgN"
      },
      "execution_count": null,
      "outputs": []
    },
    {
      "cell_type": "code",
      "source": [
        "def check_spelling(text):\n",
        "    words = re.findall(r'\\b\\w+\\b', text)\n",
        "    wrong_words = []\n",
        "    for word in words:\n",
        "        if not spell_checker.spell(word):\n",
        "            wrong_words.append(word)\n",
        "    return wrong_words\n",
        "\n",
        "def main_checker(text):\n",
        "  wrong_words = check_spelling(text)\n",
        "\n",
        "  if wrong_words:\n",
        "      print(\"Misspelled words:\")\n",
        "      for word in wrong_words:\n",
        "          print(f\"- {word}\")\n",
        "          suggestions = spell_checker.suggest(word)\n",
        "          print(f\"  Suggestions: {', '.join(suggestions)}\")\n",
        "  else:\n",
        "      print(\"No misspelled words found.\")"
      ],
      "metadata": {
        "id": "K-rsM3sfFJD8"
      },
      "execution_count": null,
      "outputs": []
    },
    {
      "cell_type": "code",
      "source": [
        "main_checker(text1)\n",
        "print(\"------------------------------------------------------------\")\n",
        "\n",
        "main_checker(text2)\n",
        "print(\"------------------------------------------------------------\")\n",
        "\n",
        "main_checker(text3)\n",
        "print(\"------------------------------------------------------------\")\n",
        "\n",
        "main_checker(text4)\n",
        "print(\"------------------------------------------------------------\")\n",
        "\n",
        "main_checker(text5)\n",
        "print(\"------------------------------------------------------------\")\n",
        "\n",
        "main_checker(text6)\n",
        "print(\"------------------------------------------------------------\")\n",
        "\n",
        "main_checker(text7)\n",
        "print(\"------------------------------------------------------------\")"
      ],
      "metadata": {
        "colab": {
          "base_uri": "https://localhost:8080/"
        },
        "id": "CeniwJqbIYcd",
        "outputId": "e5bbf87e-24bf-486c-fc13-bfab4e143bd4"
      },
      "execution_count": null,
      "outputs": [
        {
          "output_type": "stream",
          "name": "stdout",
          "text": [
            "Misspelled words:\n",
            "- هسطم\n",
            "  Suggestions: وسطم, بسطم, هستم, قسطم\n",
            "- افتخاره\n",
            "  Suggestions: افتخار, افتخارها, افتخاری, افتخارم, افتخارت, استخاره, افتخارش\n",
            "- حظور\n",
            "  Suggestions: چطور, خطور, حور, محظور, حضور\n",
            "- مراصم\n",
            "  Suggestions: مرام, مرادم, مرامم, مراسم, مرخصم, مخاصم, مراحم\n",
            "------------------------------------------------------------\n",
            "Misspelled words:\n",
            "- مغاله\n",
            "  Suggestions: ماله, مغازله, مغالطه, مغانه, مغاره, متاله, مساله, مغازه, زغاله, مقاله, مچاله, چغاله\n",
            "- هملات\n",
            "  Suggestions: همالت, هملت, ملات, مهملات, هاملت, هملخت, جملات, حملات, همذات\n",
            "- دصته\n",
            "  Suggestions: دسته\n",
            "- پیکسلی\n",
            "  Suggestions: پیکسل, کسلی\n",
            "- پچ\n",
            "  Suggestions: یخ, پخ, چپ, پپ, پیچ, پرچ, پوچ, پی, پا, پن, پد, مچ, پر, هچ, پت\n",
            "- جحانی\n",
            "  Suggestions: حجانی, جناحی, جانی, جیحانی, جرحانی, رجحانی, جیحان, جیانی, جنانی, جدانی, جمانی, جرانی, جهانی, جوانی, جتانی\n",
            "- پیکسلی\n",
            "  Suggestions: پیکسل, کسلی\n",
            "- تقییر\n",
            "  Suggestions: تقیید, تقدیر, تقریر, تخییر, تغییر, تقصیر, تقطیر\n",
            "- پچ\n",
            "  Suggestions: یخ, پخ, چپ, پپ, پیچ, پرچ, پوچ, پی, پا, پن, پد, مچ, پر, هچ, پت\n",
            "- پچ\n",
            "  Suggestions: یخ, پخ, چپ, پپ, پیچ, پرچ, پوچ, پی, پا, پن, پد, مچ, پر, هچ, پت\n",
            "- تجاوظگر\n",
            "  Suggestions: تجاوزگر\n",
            "------------------------------------------------------------\n",
            "Misspelled words:\n",
            "- بیشنهادی\n",
            "  Suggestions: پیشنهادی, بی‌نهادی\n",
            "- دادین\n",
            "  Suggestions: دادنی, ددانی, دانید, دادیم, دادی, دادن, دادیان, دادبین, ددیان, ندادی, دادان, دادید\n",
            "- بسپار\n",
            "  Suggestions: بسیار, بسپر, بسپارد, نسپار\n",
            "- خرصند\n",
            "  Suggestions: حرصند, خرند, صخرند, خاصند, خردند, خرمند, خرتند, خرسند, خلصند, خرکند, خرفند, خرجند, قرصند\n",
            "------------------------------------------------------------\n",
            "Misspelled words:\n",
            "- طوجه\n",
            "  Suggestions: زوجه, وجه, موجه, توجه, گوجه, جوجه, طوقه\n",
            "- بسیا\n",
            "  Suggestions: سبای, بسی, بسا, بیا, سیا, بسیار, سیبا, بایا, بسرا, بویا, بستا, بسزا, بسیج, آسیا, بسیط\n",
            "------------------------------------------------------------\n",
            "Misspelled words:\n",
            "- بنابرای\n",
            "  Suggestions: بنابراین, بنابهای, بنابرین, نابرابری, بنابر, نابرابر\n",
            "- نیاژ\n",
            "  Suggestions: نباز, نبار, نیاز, تبار, ژیان, نیا, نیای, نیان, نیام, نیاب, نیات\n",
            "- احداس\n",
            "  Suggestions: احدان, احساس, احداث, احدالناس\n",
            "- تاصیصاتی\n",
            "  Suggestions: تخصیصات\n",
            "- طحران\n",
            "  Suggestions: طرحان, حران, طیران, طهران, طوران, بحران, سحران\n",
            "------------------------------------------------------------\n",
            "Misspelled words:\n",
            "- صاخط\n",
            "  Suggestions: اخطار\n",
            "- غتعه\n",
            "  Suggestions: متعه\n",
            "- ضمین\n",
            "  Suggestions: ضمنی, ضمیم, ضمی, ضمن, مین, تضمین, یمین, ضمان, امین, نمین, ضمید, ضمیر, همین, سمین, زمین\n",
            "- هصطیم\n",
            "  Suggestions: همسطحیم\n",
            "------------------------------------------------------------\n",
            "Misspelled words:\n",
            "- صلام\n",
            "  Suggestions: صلا, صلاحم, مصلا, اصلم, صیام, صنام, صدام, صلبم, صلات, سلام, کلام, آلام, صلاح, صلحم, غلام\n",
            "- اصم\n",
            "  Suggestions: اصلم, اخصم, خاصم, عاصم, نصم, ادم, امم, ارم, اهم, اتم, اسم, اصل, الم, اخم, خصم\n",
            "- بصیار\n",
            "  Suggestions: بصیر, بهیار, بسیار\n",
            "- خوشهالم\n",
            "  Suggestions: خوشهایم, خوشحالم, خوشدلم\n",
            "------------------------------------------------------------\n"
          ]
        }
      ]
    },
    {
      "cell_type": "code",
      "source": [
        "def correct_spelling(text):\n",
        "    words = re.findall(r'\\b\\w+\\b', text)\n",
        "    corrected_text = text\n",
        "\n",
        "    for word in words:\n",
        "        if not spell_checker.spell(word):\n",
        "            suggestions = spell_checker.suggest(word)\n",
        "            if suggestions:\n",
        "                corrected_text = corrected_text.replace(word, suggestions[0])\n",
        "\n",
        "    return corrected_text"
      ],
      "metadata": {
        "id": "a2lVgv1GFLmD"
      },
      "execution_count": null,
      "outputs": []
    },
    {
      "cell_type": "code",
      "source": [
        "print(correct_spelling(text1))\n",
        "print(\"------------------------------------------------------------\")\n",
        "\n",
        "print(correct_spelling(text2))\n",
        "print(\"------------------------------------------------------------\")\n",
        "\n",
        "print(correct_spelling(text3))\n",
        "print(\"------------------------------------------------------------\")\n",
        "\n",
        "print(correct_spelling(text4))\n",
        "print(\"------------------------------------------------------------\")\n",
        "\n",
        "print(correct_spelling(text5))\n",
        "print(\"------------------------------------------------------------\")\n",
        "\n",
        "print(correct_spelling(text6))\n",
        "print(\"------------------------------------------------------------\")\n",
        "\n",
        "print(correct_spelling(text7))\n",
        "print(\"------------------------------------------------------------\")"
      ],
      "metadata": {
        "colab": {
          "base_uri": "https://localhost:8080/"
        },
        "id": "RIOYspi3Fdjd",
        "outputId": "ae5fb68d-1249-499f-d6f2-67c88af3a4c3"
      },
      "execution_count": null,
      "outputs": [
        {
          "output_type": "stream",
          "name": "stdout",
          "text": [
            "سلام من شایان وسطم، از دیدن شما خیل خوشحال شدم و باعث افتخار چطور شما در این مرام.\n",
            "------------------------------------------------------------\n",
            "اولین بخش ماله، انواع و مکانیسم‌های همالت پشت‌در را مرور می‌کند، سه دسته بزرگ را ذکر می‌کند: حملات تک پیکسل، یخ، و حجانی. حملات تک پیکسل یک بخش بسیار کوچک از داده‌های ورودی را تقیید می‌دهند، در حالی که حملات یخ یک یخ از اطلاعات تجاوزگر را در ورودی درج می‌کنند.\n",
            "------------------------------------------------------------\n",
            "از پیشنهادی که شما دادنی بسیار حرصند شدم.\n",
            "------------------------------------------------------------\n",
            "از زوجه شما سبای سپاس گزارم.\n",
            "------------------------------------------------------------\n",
            "بنابراین ما در اینجا نباز به احدان یک واحد تخصیصات در طرحان داریم.\n",
            "------------------------------------------------------------\n",
            "در اینجا ما درگیر اخطار یک متعه ضمنی برای هیات یک مدرسه همسطحیم.\n",
            "------------------------------------------------------------\n",
            "صلا اصلم من علیرضا است و از دیدن شما بصیر خوشهایم.\n",
            "------------------------------------------------------------\n"
          ]
        }
      ]
    }
  ]
}